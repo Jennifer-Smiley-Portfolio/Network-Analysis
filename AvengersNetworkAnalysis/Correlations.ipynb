{
 "cells": [
  {
   "cell_type": "code",
   "execution_count": 1,
   "metadata": {},
   "outputs": [],
   "source": [
    "import networkx as nx\n",
    "import matplotlib.pyplot as plt\n",
    "from scipy import stats\n",
    "import pandas as pd"
   ]
  },
  {
   "cell_type": "code",
   "execution_count": 2,
   "metadata": {},
   "outputs": [],
   "source": [
    "def display_graph(g):\n",
    "    elarge = [(u, v) for (u, v, d) in g.edges(data=True) if d['weight'] > 5]\n",
    "    esmall = [(u, v) for (u, v, d) in g.edges(data=True) if d['weight'] <= 5]\n",
    "\n",
    "    pos = nx.spring_layout(g)  # positions for all nodes\n",
    "\n",
    "    plt.figure(figsize=(10,10))\n",
    "\n",
    "\n",
    "    # nodes\n",
    "    nx.draw_networkx_nodes(g, pos, node_size=700)\n",
    "\n",
    "    # edges\n",
    "    nx.draw_networkx_edges(g, pos, edgelist=elarge,\n",
    "                           width=6)\n",
    "    nx.draw_networkx_edges(g, pos, edgelist=esmall,\n",
    "                           width=2, alpha=0.5, edge_color='b')\n",
    "\n",
    "    # labels\n",
    "    nx.draw_networkx_labels(g, pos, font_size=10, font_family='sans-serif')\n",
    "\n",
    "    plt.axis('off')\n",
    "    plt.show()\n",
    "\n",
    "    return None"
   ]
  },
  {
   "cell_type": "code",
   "execution_count": 3,
   "metadata": {},
   "outputs": [],
   "source": [
    "def standardize_names(g):\n",
    "\n",
    "    new_names = {'BlackWidow':'Black_Widow',\n",
    "             'Captin_America':'Captain_America','CaptainAmerica':'Captain_America',\n",
    "             'Clint_Barton':'Hawkeye',\n",
    "             'Iron_Man':'IronMan',\n",
    "             'NickFury':'Nick_Fury',\n",
    "             'ScarletWitch':'Scarlet_Witch',\n",
    "             'WarMachine':'War_Machine'}\n",
    "\n",
    "    fixes = set(new_names.keys()) - set(g.nodes())\n",
    "    \n",
    "    for fix in fixes:\n",
    "        del new_names[fix]\n",
    "        \n",
    "    return nx.relabel_nodes(g, new_names)"
   ]
  },
  {
   "cell_type": "code",
   "execution_count": 4,
   "metadata": {},
   "outputs": [],
   "source": [
    "def combine_weighted_graphs(g,h):\n",
    "    ''' Need special function to combined graphs with weighted edges where you want the weights of edges\n",
    "    in both graphs to be added together'''\n",
    "    \n",
    "    combined = nx.Graph()\n",
    "\n",
    "    # standardize edge name ordering\n",
    "    g_edges = [tuple(sorted(x)) for x in g.edges]\n",
    "    h_edges = [tuple(sorted(x)) for x in h.edges]\n",
    "  \n",
    "    add_weights_edges = set(g_edges) & set(h_edges)\n",
    "    \n",
    "    for edge in add_weights_edges:\n",
    "        weight = g[edge[0]][edge[1]]['weight'] + h[edge[0]][edge[1]]['weight']\n",
    "        combined.add_edge(edge[0], edge[1], weight=weight)\n",
    "   \n",
    "    # edges in g not in h\n",
    "    unique_edges = set(g_edges) - set(h_edges)\n",
    "    for edge in unique_edges:\n",
    "        combined.add_edge(edge[0],edge[1], weight=g[edge[0]][edge[1]]['weight'])\n",
    "\n",
    "    # edges in h not in g\n",
    "    unique_edges = set(h_edges) - set(g_edges)\n",
    "    for edge in unique_edges:\n",
    "        combined.add_edge(edge[0],edge[1], weight=h[edge[0]][edge[1]]['weight'])\n",
    "                       \n",
    "    return combined"
   ]
  },
  {
   "cell_type": "code",
   "execution_count": 5,
   "metadata": {},
   "outputs": [],
   "source": [
    "a1 = nx.read_edgelist('Avengers1_edge_list.txt', data=(('weight',float),))\n",
    "a1 = standardize_names(a1)"
   ]
  },
  {
   "cell_type": "code",
   "execution_count": 6,
   "metadata": {},
   "outputs": [],
   "source": [
    "a2 = nx.read_edgelist('Avengers2_edge_list.txt', data=(('weight',float),))\n",
    "a2 = standardize_names(a2)"
   ]
  },
  {
   "cell_type": "code",
   "execution_count": 7,
   "metadata": {},
   "outputs": [],
   "source": [
    "combined = combine_weighted_graphs(a1,a2)"
   ]
  },
  {
   "cell_type": "code",
   "execution_count": 8,
   "metadata": {},
   "outputs": [
    {
     "data": {
      "text/plain": [
       "NodeView(('Hulk', 'IronMan', 'Black_Widow', 'Nick_Fury', 'Captain_America', 'Hawkeye', 'Thor', 'Loki', 'Professor_Erik_Selvig', 'Agent_Hill', 'Phil_Coulson', 'Jarvis', 'Jane', 'Pepper_Potts', 'War_Machine', 'Vision', 'Scarlet_Witch', 'Falcon'))"
      ]
     },
     "execution_count": 8,
     "metadata": {},
     "output_type": "execute_result"
    }
   ],
   "source": [
    "combined.nodes"
   ]
  },
  {
   "cell_type": "code",
   "execution_count": 13,
   "metadata": {},
   "outputs": [],
   "source": [
    "#returns Common Neighbr Distance for given nodes x and y \n",
    "def common_neighbor_distance (g, x, y) :\n",
    "    cn = len(list(nx.common_neighbors(g, x, y)))\n",
    "    if(cn > 0):\n",
    "        return (1 + cn)/2\n",
    "    else:\n",
    "        return 1/nx.shortest_path_length(g, source = x, target = y)\n",
    "    \n",
    "#returns Sorenson Index for given nodes x and y\n",
    "def sorenson_index (g, x, y) :\n",
    "    cn = len(list(nx.common_neighbors(g, x, y)))\n",
    "    return 2*cn/(g.degree(x)+g.degree(y))\n",
    "\n",
    "#Similarity between two nodes using the Hub Promoted Index\n",
    "def hpi(G,x,y):\n",
    "    return len(list(nx.common_neighbors(G, x, y)))/min(G.degree(x),G.degree(y))"
   ]
  },
  {
   "cell_type": "code",
   "execution_count": 14,
   "metadata": {},
   "outputs": [],
   "source": [
    "#iterates through all pairs of nodes\n",
    "#returns dataframe with all metric values for each pair\n",
    "def metric_iterator (g) :\n",
    "    df = pd.DataFrame(columns = ['CND', 'PA', 'AA', 'CN', 'SI', 'JI', 'RA', 'HPI'])\n",
    "    nodes = list(g)\n",
    "    for x in range(0, g.number_of_nodes()):\n",
    "        for y in range(x + 1, g.number_of_nodes()):\n",
    "            #call 8 metrics and add to dataframe\n",
    "            scores = dict()\n",
    "            scores['CND'] = round(common_neighbor_distance(g, nodes[x], nodes[y]), 3)\n",
    "            scores['PA'] = int(list(nx.preferential_attachment(g, [(nodes[x], nodes[y])]))[0][2])\n",
    "            scores['AA'] = round(list(nx.adamic_adar_index(g, [(nodes[x], nodes[y])]))[0][2], 3)\n",
    "            scores['CN'] = len(list(nx.common_neighbors(g, nodes[x], nodes[y])))\n",
    "            scores['SI'] = round(sorenson_index(g, nodes[x], nodes[y]), 3)\n",
    "            scores['JI'] = round(list(nx.jaccard_coefficient(g, [(nodes[x], nodes[y])]))[0][2], 3)\n",
    "            scores['RA'] = round(list(nx.resource_allocation_index(g, [(nodes[x], nodes[y])]))[0][2], 3)\n",
    "            scores['HPI'] = round(hpi(g, nodes[x], nodes[y]), 3)\n",
    "            newRow = pd.Series(data = scores, name = \"\" + nodes[x] + \",\" + nodes[y])\n",
    "            df = df.append(newRow, ignore_index = False)\n",
    "            \n",
    "    return df"
   ]
  },
  {
   "cell_type": "code",
   "execution_count": 15,
   "metadata": {},
   "outputs": [
    {
     "name": "stdout",
     "output_type": "stream",
     "text": [
      "                             CND    PA     AA   CN     SI     JI     RA    HPI\n",
      "Hulk,IronMan               3.000  78.0  2.234  5.0  0.526  0.357  0.533  0.833\n",
      "Hulk,Black_Widow           3.000  54.0  2.169  5.0  0.667  0.500  0.499  0.833\n",
      "Hulk,Nick_Fury             3.000  60.0  2.190  5.0  0.625  0.455  0.510  0.833\n",
      "Hulk,Captain_America       3.000  54.0  2.169  5.0  0.667  0.500  0.499  0.833\n",
      "Hulk,Hawkeye               3.000  42.0  2.190  5.0  0.769  0.625  0.510  0.833\n",
      "...                          ...   ...    ...  ...    ...    ...    ...    ...\n",
      "War_Machine,Scarlet_Witch  0.333   1.0  0.000  0.0  0.000  0.000  0.000  0.000\n",
      "War_Machine,Falcon         0.333   1.0  0.000  0.0  0.000  0.000  0.000  0.000\n",
      "Vision,Scarlet_Witch       0.250   1.0  0.000  0.0  0.000  0.000  0.000  0.000\n",
      "Vision,Falcon              0.333   1.0  0.000  0.0  0.000  0.000  0.000  0.000\n",
      "Scarlet_Witch,Falcon       0.333   1.0  0.000  0.0  0.000  0.000  0.000  0.000\n",
      "\n",
      "[153 rows x 8 columns]\n"
     ]
    }
   ],
   "source": [
    "g = metric_iterator(combined)\n",
    "print(g)"
   ]
  },
  {
   "cell_type": "code",
   "execution_count": 16,
   "metadata": {},
   "outputs": [
    {
     "data": {
      "text/plain": [
       "SpearmanrResult(correlation=0.22013721170850004, pvalue=0.006252418888523385)"
      ]
     },
     "execution_count": 16,
     "metadata": {},
     "output_type": "execute_result"
    }
   ],
   "source": [
    "stats.spearmanr(g['CND'], g['HPI'])"
   ]
  },
  {
   "cell_type": "code",
   "execution_count": 17,
   "metadata": {},
   "outputs": [],
   "source": [
    "#Correlations between each link predictior\n",
    "def correlations(g):\n",
    "    df = pd.DataFrame()#columns = ['correlation_spearman', 'correlation_kendall', 'correlation_pearson', 'pvalue_spearman',\n",
    "                               # 'pvalue_kendall', 'correlation_pearson'])\n",
    "    c = list(g.columns)\n",
    "    for x in c:\n",
    "        for y in c:\n",
    "           # print(stats.spearmanr(g[x], g[y]))\n",
    "            score = dict()\n",
    "            score['correlation_spearman'] = stats.spearmanr(g[x], g[y])[0]\n",
    "            score['correlation_kendall'] = stats.kendalltau(g[x], g[y])[0]\n",
    "            score['correlation_pearson'] = stats.pearsonr(g[x], g[y])[0]\n",
    "            score['pvalue_spearman'] = stats.spearmanr(g[x], g[y])[1]\n",
    "            score['pvalue_kendall'] = stats.kendalltau(g[x], g[y])[1]\n",
    "            score['pvalue_pearson'] = stats.pearsonr(g[x], g[y])[1]\n",
    "            newRow = pd.Series(data = score, name = \"\" + x + \",\" + y)\n",
    "            df = df.append(newRow, ignore_index = False)\n",
    "        \n",
    "    return df"
   ]
  },
  {
   "cell_type": "code",
   "execution_count": 18,
   "metadata": {},
   "outputs": [
    {
     "data": {
      "text/html": [
       "<div>\n",
       "<style scoped>\n",
       "    .dataframe tbody tr th:only-of-type {\n",
       "        vertical-align: middle;\n",
       "    }\n",
       "\n",
       "    .dataframe tbody tr th {\n",
       "        vertical-align: top;\n",
       "    }\n",
       "\n",
       "    .dataframe thead th {\n",
       "        text-align: right;\n",
       "    }\n",
       "</style>\n",
       "<table border=\"1\" class=\"dataframe\">\n",
       "  <thead>\n",
       "    <tr style=\"text-align: right;\">\n",
       "      <th></th>\n",
       "      <th>correlation_kendall</th>\n",
       "      <th>correlation_pearson</th>\n",
       "      <th>correlation_spearman</th>\n",
       "      <th>pvalue_kendall</th>\n",
       "      <th>pvalue_pearson</th>\n",
       "      <th>pvalue_spearman</th>\n",
       "    </tr>\n",
       "  </thead>\n",
       "  <tbody>\n",
       "    <tr>\n",
       "      <th>CND,CND</th>\n",
       "      <td>1.000000</td>\n",
       "      <td>1.000000</td>\n",
       "      <td>1.000000</td>\n",
       "      <td>4.598835e-53</td>\n",
       "      <td>0.000000e+00</td>\n",
       "      <td>0.000000e+00</td>\n",
       "    </tr>\n",
       "    <tr>\n",
       "      <th>CND,PA</th>\n",
       "      <td>0.820363</td>\n",
       "      <td>0.955294</td>\n",
       "      <td>0.915277</td>\n",
       "      <td>2.582880e-41</td>\n",
       "      <td>8.328882e-82</td>\n",
       "      <td>1.667763e-61</td>\n",
       "    </tr>\n",
       "    <tr>\n",
       "      <th>CND,AA</th>\n",
       "      <td>0.897500</td>\n",
       "      <td>0.988054</td>\n",
       "      <td>0.950640</td>\n",
       "      <td>3.570823e-47</td>\n",
       "      <td>1.508059e-124</td>\n",
       "      <td>1.235557e-78</td>\n",
       "    </tr>\n",
       "    <tr>\n",
       "      <th>CND,CN</th>\n",
       "      <td>0.968432</td>\n",
       "      <td>0.995151</td>\n",
       "      <td>0.977851</td>\n",
       "      <td>6.298543e-50</td>\n",
       "      <td>5.375183e-154</td>\n",
       "      <td>1.813472e-104</td>\n",
       "    </tr>\n",
       "    <tr>\n",
       "      <th>CND,SI</th>\n",
       "      <td>0.804709</td>\n",
       "      <td>0.857684</td>\n",
       "      <td>0.889999</td>\n",
       "      <td>6.454215e-39</td>\n",
       "      <td>1.800178e-45</td>\n",
       "      <td>2.290695e-53</td>\n",
       "    </tr>\n",
       "    <tr>\n",
       "      <th>...</th>\n",
       "      <td>...</td>\n",
       "      <td>...</td>\n",
       "      <td>...</td>\n",
       "      <td>...</td>\n",
       "      <td>...</td>\n",
       "      <td>...</td>\n",
       "    </tr>\n",
       "    <tr>\n",
       "      <th>HPI,CN</th>\n",
       "      <td>0.192765</td>\n",
       "      <td>0.345200</td>\n",
       "      <td>0.280699</td>\n",
       "      <td>3.160035e-03</td>\n",
       "      <td>1.242639e-05</td>\n",
       "      <td>4.405745e-04</td>\n",
       "    </tr>\n",
       "    <tr>\n",
       "      <th>HPI,SI</th>\n",
       "      <td>0.243088</td>\n",
       "      <td>0.537764</td>\n",
       "      <td>0.333155</td>\n",
       "      <td>8.336026e-05</td>\n",
       "      <td>7.617334e-13</td>\n",
       "      <td>2.576836e-05</td>\n",
       "    </tr>\n",
       "    <tr>\n",
       "      <th>HPI,JI</th>\n",
       "      <td>0.243088</td>\n",
       "      <td>0.452812</td>\n",
       "      <td>0.333155</td>\n",
       "      <td>8.336026e-05</td>\n",
       "      <td>4.183675e-09</td>\n",
       "      <td>2.576836e-05</td>\n",
       "    </tr>\n",
       "    <tr>\n",
       "      <th>HPI,RA</th>\n",
       "      <td>0.185502</td>\n",
       "      <td>0.304372</td>\n",
       "      <td>0.287202</td>\n",
       "      <td>2.917017e-03</td>\n",
       "      <td>1.306852e-04</td>\n",
       "      <td>3.188304e-04</td>\n",
       "    </tr>\n",
       "    <tr>\n",
       "      <th>HPI,HPI</th>\n",
       "      <td>1.000000</td>\n",
       "      <td>1.000000</td>\n",
       "      <td>1.000000</td>\n",
       "      <td>1.100211e-52</td>\n",
       "      <td>0.000000e+00</td>\n",
       "      <td>0.000000e+00</td>\n",
       "    </tr>\n",
       "  </tbody>\n",
       "</table>\n",
       "<p>64 rows × 6 columns</p>\n",
       "</div>"
      ],
      "text/plain": [
       "         correlation_kendall  correlation_pearson  correlation_spearman  \\\n",
       "CND,CND             1.000000             1.000000              1.000000   \n",
       "CND,PA              0.820363             0.955294              0.915277   \n",
       "CND,AA              0.897500             0.988054              0.950640   \n",
       "CND,CN              0.968432             0.995151              0.977851   \n",
       "CND,SI              0.804709             0.857684              0.889999   \n",
       "...                      ...                  ...                   ...   \n",
       "HPI,CN              0.192765             0.345200              0.280699   \n",
       "HPI,SI              0.243088             0.537764              0.333155   \n",
       "HPI,JI              0.243088             0.452812              0.333155   \n",
       "HPI,RA              0.185502             0.304372              0.287202   \n",
       "HPI,HPI             1.000000             1.000000              1.000000   \n",
       "\n",
       "         pvalue_kendall  pvalue_pearson  pvalue_spearman  \n",
       "CND,CND    4.598835e-53    0.000000e+00     0.000000e+00  \n",
       "CND,PA     2.582880e-41    8.328882e-82     1.667763e-61  \n",
       "CND,AA     3.570823e-47   1.508059e-124     1.235557e-78  \n",
       "CND,CN     6.298543e-50   5.375183e-154    1.813472e-104  \n",
       "CND,SI     6.454215e-39    1.800178e-45     2.290695e-53  \n",
       "...                 ...             ...              ...  \n",
       "HPI,CN     3.160035e-03    1.242639e-05     4.405745e-04  \n",
       "HPI,SI     8.336026e-05    7.617334e-13     2.576836e-05  \n",
       "HPI,JI     8.336026e-05    4.183675e-09     2.576836e-05  \n",
       "HPI,RA     2.917017e-03    1.306852e-04     3.188304e-04  \n",
       "HPI,HPI    1.100211e-52    0.000000e+00     0.000000e+00  \n",
       "\n",
       "[64 rows x 6 columns]"
      ]
     },
     "execution_count": 18,
     "metadata": {},
     "output_type": "execute_result"
    }
   ],
   "source": [
    "correlations(g)"
   ]
  },
  {
   "cell_type": "code",
   "execution_count": null,
   "metadata": {},
   "outputs": [],
   "source": []
  },
  {
   "cell_type": "code",
   "execution_count": null,
   "metadata": {},
   "outputs": [],
   "source": []
  }
 ],
 "metadata": {
  "kernelspec": {
   "display_name": "Python 3",
   "language": "python",
   "name": "python3"
  },
  "language_info": {
   "codemirror_mode": {
    "name": "ipython",
    "version": 3
   },
   "file_extension": ".py",
   "mimetype": "text/x-python",
   "name": "python",
   "nbconvert_exporter": "python",
   "pygments_lexer": "ipython3",
   "version": "3.6.10"
  }
 },
 "nbformat": 4,
 "nbformat_minor": 4
}
